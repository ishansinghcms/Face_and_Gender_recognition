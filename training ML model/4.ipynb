{
 "cells": [
  {
   "cell_type": "code",
   "execution_count": 1,
   "id": "e4e257b5",
   "metadata": {},
   "outputs": [],
   "source": [
    "import numpy as np\n",
    "import pandas as pd\n",
    "import matplotlib.pyplot as plt\n",
    "import cv2\n",
    "from PIL import Image\n",
    "from glob import glob\n",
    "%matplotlib inline"
   ]
  },
  {
   "cell_type": "code",
   "execution_count": 2,
   "id": "290c9cfa",
   "metadata": {},
   "outputs": [],
   "source": [
    "data=np.load('./data/data_100_100_norm.npz')"
   ]
  },
  {
   "cell_type": "code",
   "execution_count": 3,
   "id": "b54631bf",
   "metadata": {},
   "outputs": [
    {
     "data": {
      "text/plain": [
       "['arr_0', 'arr_1']"
      ]
     },
     "execution_count": 3,
     "metadata": {},
     "output_type": "execute_result"
    }
   ],
   "source": [
    "data.files"
   ]
  },
  {
   "cell_type": "code",
   "execution_count": 4,
   "id": "262b1353",
   "metadata": {},
   "outputs": [],
   "source": [
    "x= data['arr_0']\n",
    "y= data['arr_1']"
   ]
  },
  {
   "cell_type": "code",
   "execution_count": 5,
   "id": "65b4f93f",
   "metadata": {},
   "outputs": [
    {
     "data": {
      "text/plain": [
       "((5459, 10000), (5459,))"
      ]
     },
     "execution_count": 5,
     "metadata": {},
     "output_type": "execute_result"
    }
   ],
   "source": [
    "x.shape, y.shape"
   ]
  },
  {
   "cell_type": "code",
   "execution_count": 8,
   "id": "5de67873",
   "metadata": {},
   "outputs": [],
   "source": [
    "x1=x-x.mean(axis=0)"
   ]
  },
  {
   "cell_type": "code",
   "execution_count": 9,
   "id": "02e8f596",
   "metadata": {},
   "outputs": [],
   "source": [
    "from sklearn.decomposition import PCA"
   ]
  },
  {
   "cell_type": "code",
   "execution_count": 10,
   "id": "57cbcb94",
   "metadata": {},
   "outputs": [],
   "source": [
    "pca = PCA(n_components=None, whiten=True, svd_solver='auto') "
   ]
  },
  {
   "cell_type": "code",
   "execution_count": 11,
   "id": "9c0d9cc4",
   "metadata": {},
   "outputs": [],
   "source": [
    "x_pca=pca.fit_transform(x1)"
   ]
  },
  {
   "cell_type": "code",
   "execution_count": 12,
   "id": "10d0d1e9",
   "metadata": {},
   "outputs": [
    {
     "data": {
      "text/plain": [
       "(5459, 5459)"
      ]
     },
     "execution_count": 12,
     "metadata": {},
     "output_type": "execute_result"
    }
   ],
   "source": [
    "x_pca.shape"
   ]
  },
  {
   "cell_type": "code",
   "execution_count": 13,
   "id": "37431f62",
   "metadata": {},
   "outputs": [],
   "source": [
    "eigen_ratio=pca.explained_variance_ratio_\n",
    "eigen_ratio_sum=np.cumsum(eigen_ratio)"
   ]
  },
  {
   "cell_type": "code",
   "execution_count": 16,
   "id": "ed2a8159",
   "metadata": {
    "scrolled": false
   },
   "outputs": [
    {
     "data": {
      "image/png": "[encoded data removed]",
      "text/plain": [
       "<Figure size 720x288 with 2 Axes>"
      ]
     },
     "metadata": {
      "needs_background": "light"
     },
     "output_type": "display_data"
    }
   ],
   "source": [
    "plt.figure(figsize=(10,4))\n",
    "plt.subplot(1,2,1)\n",
    "plt.plot(eigen_ratio[:200],'r>--')\n",
    "plt.xlabel('no of components')\n",
    "plt.ylabel('explained variance ratio')\n",
    "plt.subplot(1,2,2)\n",
    "plt.xlabel('no of components')\n",
    "plt.ylabel('cumulativeexplained variance ratio')\n",
    "plt.plot(eigen_ratio_sum[:200],'r>--')\n",
    "plt.show()"
   ]
  },
  {
   "cell_type": "code",
   "execution_count": 17,
   "id": "c05243a9",
   "metadata": {},
   "outputs": [],
   "source": [
    "pca_50 = PCA(n_components=50, whiten=True, svd_solver='auto') \n",
    "x_pca_50=pca_50.fit_transform(x1)"
   ]
  },
  {
   "cell_type": "code",
   "execution_count": 18,
   "id": "801f40d6",
   "metadata": {},
   "outputs": [
    {
     "data": {
      "text/plain": [
       "(5459, 50)"
      ]
     },
     "execution_count": 18,
     "metadata": {},
     "output_type": "execute_result"
    }
   ],
   "source": [
    "x_pca_50.shape"
   ]
  },
  {
   "cell_type": "code",
   "execution_count": 23,
   "id": "f905a303",
   "metadata": {},
   "outputs": [],
   "source": [
    "import pickle\n",
    "pickle.dump(pca_50,open('./model/pca_50.pickle','wb'))"
   ]
  },
  {
   "cell_type": "code",
   "execution_count": 24,
   "id": "349603d4",
   "metadata": {},
   "outputs": [],
   "source": [
    "np.savez(\"./data/data_pca_50_y_mean.pickle\",x_pca_50,y,x.mean(axis=0))"
   ]
  }
 ],
 "metadata": {
  "kernelspec": {
   "display_name": "Python 3 (ipykernel)",
   "language": "python",
   "name": "python3"
  },
  "language_info": {
   "codemirror_mode": {
    "name": "ipython",
    "version": 3
   },
   "file_extension": ".py",
   "mimetype": "text/x-python",
   "name": "python",
   "nbconvert_exporter": "python",
   "pygments_lexer": "ipython3",
   "version": "3.9.6"
  }
 },
 "nbformat": 4,
 "nbformat_minor": 5
}
