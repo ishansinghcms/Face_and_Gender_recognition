{
 "cells": [
  {
   "cell_type": "markdown",
   "id": "a9f4570a",
   "metadata": {},
   "source": [
    "<h3>Steps-\n",
    "<ol>\n",
    "<li>read image</li>\n",
    "<li>convert into grayscale</li>\n",
    "<li>detect the bounding box of the face using haar cascade classifier</li> \n",
    "<li>all the above steps are done with openCV library</li>\n",
    "<li>then, in order to achieve the class name and confidence score we use machine learning model. for this we will crop and scale the image to make it structure and then normalize the image using numPy library</li>\n",
    "<li>with normalized image we calculate and compute eigen values using Principle Component Analysis(PCA) with the help of scikit-learn library</li>\n",
    "<li>using the coordinates of the bounding box in step number 3, and the description of image and the confidence score, we will draw the bounding box and put text in the image with the help of openCV library</li>\n",
    "</ol>\n",
    "</h3>    "
   ]
  },
  {
   "cell_type": "code",
   "execution_count": null,
   "id": "18e388dc",
   "metadata": {},
   "outputs": [],
   "source": []
  }
 ],
 "metadata": {
  "kernelspec": {
   "display_name": "Python 3 (ipykernel)",
   "language": "python",
   "name": "python3"
  },
  "language_info": {
   "codemirror_mode": {
    "name": "ipython",
    "version": 3
   },
   "file_extension": ".py",
   "mimetype": "text/x-python",
   "name": "python",
   "nbconvert_exporter": "python",
   "pygments_lexer": "ipython3",
   "version": "3.9.6"
  }
 },
 "nbformat": 4,
 "nbformat_minor": 5
}
