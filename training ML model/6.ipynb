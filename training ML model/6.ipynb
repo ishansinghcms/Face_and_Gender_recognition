{
 "cells": [
  {
   "cell_type": "code",
   "execution_count": 12,
   "id": "e820505b",
   "metadata": {},
   "outputs": [],
   "source": [
    "import numpy as np\n",
    "import pandas as pd\n",
    "import matplotlib.pyplot as plt\n",
    "import sklearn\n",
    "import pickle\n",
    "import cv2\n",
    "%matplotlib inline"
   ]
  },
  {
   "cell_type": "code",
   "execution_count": 5,
   "id": "8d9b909f",
   "metadata": {},
   "outputs": [
    {
     "name": "stdout",
     "output_type": "stream",
     "text": [
      "models loaded successfully\n"
     ]
    }
   ],
   "source": [
    "haar=cv2.CascadeClassifier('./model/haarcascade_frontalface_default.xml')\n",
    "mean=pickle.load(open('./model/mean_preprocessing.pickle', 'rb'))\n",
    "model_svm=pickle.load(open('./model/model_svm.pickle', 'rb'))\n",
    "model_pca=pickle.load(open('./model/pca_50.pickle', 'rb'))\n",
    "print('models loaded successfully')"
   ]
  },
  {
   "cell_type": "code",
   "execution_count": 32,
   "id": "3de8cbd0",
   "metadata": {},
   "outputs": [],
   "source": [
    "gender_pre=['Male','Female']\n",
    "font=cv2.FONT_HERSHEY_SIMPLEX"
   ]
  },
  {
   "cell_type": "code",
   "execution_count": 10,
   "id": "cb7c7e50",
   "metadata": {},
   "outputs": [],
   "source": [
    "def pipeline_model(img,color='rgb'):\n",
    "    if color =='bgr':\n",
    "        gray=cv2.cvtColor(img, cv2.COLOR_BGR2GRAY)\n",
    "    else:\n",
    "        gray=cv2.cvtColor(img, cv2.COLOR_RGB2GRAY)\n",
    "    faces=haar.detectMultiScale(gray,1.5,3)\n",
    "    for x,y,w,h in faces:\n",
    "        cv2.rectangle(img,(x,y),(x+w,y+h),(0,255,0),2)\n",
    "        roi=gray[y:y+h,x:x+w] \n",
    "        roi=roi/255.0\n",
    "        if roi.shape[1] > 100:\n",
    "            roi_resize=cv2.resize(roi,(100,100),cv2.INTER_AREA)\n",
    "        else:\n",
    "            roi_resize=cv2.resize(roi,(100,100),cv2.INTER_CUBIC)\n",
    "        roi_reshape=roi_resize.reshape(1,10000)\n",
    "        roi_mean=roi_reshape-mean\n",
    "        eigen_image=model_pca.transform(roi_mean)\n",
    "        results=model_svm.predict_proba(eigen_image)[0]\n",
    "        predict=results.argmax() \n",
    "        score=results[predict]\n",
    "        text=\"%s : %0.2f\"%(gender_pre[predict], score)\n",
    "        cv2.putText(img, text, (x,y), font, 1, (0,255,0), 2)\n",
    "    return img "
   ]
  }
 ],
 "metadata": {
  "kernelspec": {
   "display_name": "Python 3 (ipykernel)",
   "language": "python",
   "name": "python3"
  },
  "language_info": {
   "codemirror_mode": {
    "name": "ipython",
    "version": 3
   },
   "file_extension": ".py",
   "mimetype": "text/x-python",
   "name": "python",
   "nbconvert_exporter": "python",
   "pygments_lexer": "ipython3",
   "version": "3.9.6"
  }
 },
 "nbformat": 4,
 "nbformat_minor": 5
}
