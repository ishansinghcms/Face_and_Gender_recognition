{
 "cells": [
  {
   "cell_type": "markdown",
   "id": "d6495304",
   "metadata": {},
   "source": [
    "# Face Recognition Web Application"
   ]
  },
  {
   "cell_type": "markdown",
   "id": "d6125c02",
   "metadata": {},
   "source": [
    "<h3>Technologies used-</h3>\n",
    "frontend- HTML, CSS, bootstrap and JS<br>\n",
    "backend- python<br>\n",
    "altogether the project is running in flask"
   ]
  },
  {
   "cell_type": "markdown",
   "id": "a666aeb1",
   "metadata": {},
   "source": [
    "Face Recognition App- <br>\n",
    "<ol>\n",
    "<li>Detects the face</li>\n",
    "<li>Classifies the gender- male or female</li>\n",
    "</ol>"
   ]
  },
  {
   "cell_type": "markdown",
   "id": "d3763a9e",
   "metadata": {},
   "source": [
    "Major component of face recognition application to develop machine learning model which will classify the images. To train the model with images more accurately we should perform image processing concepts for the data perform data analysis and data preprocessing for structuring the data."
   ]
  },
  {
   "cell_type": "markdown",
   "id": "6c040d12",
   "metadata": {},
   "source": [
    "<h3>Libraries used in the project are-</h3>\n",
    "<ol>\n",
    "<li><b>openCV</b> for image processing</li>\n",
    "<li><b>numPy, pandas and matplotlib</b> for pre-processing and analysis</li>\n",
    "<li><b>scikit learn</b> for training the machine learning model</li>\n",
    "</ol>"
   ]
  },
  {
   "cell_type": "markdown",
   "id": "ab0a8fd9",
   "metadata": {},
   "source": [
    "After this we'll create web application using flask web framework."
   ]
  },
  {
   "cell_type": "markdown",
   "id": "f7a82be6",
   "metadata": {},
   "source": [
    "Steps to set up environment-<br>\n",
    "1. install virtual environment:<b> pip install --user virtualenv </b><br>\n",
    "2. create virtual environment:<b> python -m venv freeai </b><br>,where 'freeai' is the name given to the vitrual environment. it can be anything. virtual environment has to be created in the project directory. <br>\n",
    "3. install the following modules using pip install:<b> numpY, scipy, matplotlib, pandas, jupyter, sklearn </b>"
   ]
  }
 ],
 "metadata": {
  "kernelspec": {
   "display_name": "Python 3 (ipykernel)",
   "language": "python",
   "name": "python3"
  },
  "language_info": {
   "codemirror_mode": {
    "name": "ipython",
    "version": 3
   },
   "file_extension": ".py",
   "mimetype": "text/x-python",
   "name": "python",
   "nbconvert_exporter": "python",
   "pygments_lexer": "ipython3",
   "version": "3.9.6"
  }
 },
 "nbformat": 4,
 "nbformat_minor": 5
}
