{
 "cells": [
  {
   "cell_type": "markdown",
   "id": "f488aab1",
   "metadata": {},
   "source": [
    "we'll put everything together and create our model"
   ]
  },
  {
   "cell_type": "code",
   "execution_count": 12,
   "id": "e820505b",
   "metadata": {},
   "outputs": [],
   "source": [
    "import numpy as np\n",
    "import pandas as pd\n",
    "import matplotlib.pyplot as plt\n",
    "import sklearn\n",
    "import pickle\n",
    "import cv2\n",
    "%matplotlib inline"
   ]
  },
  {
   "cell_type": "markdown",
   "id": "9a6e5732",
   "metadata": {},
   "source": [
    "<b>loading all models"
   ]
  },
  {
   "cell_type": "code",
   "execution_count": 5,
   "id": "8d9b909f",
   "metadata": {},
   "outputs": [
    {
     "name": "stdout",
     "output_type": "stream",
     "text": [
      "models loaded successfully\n"
     ]
    }
   ],
   "source": [
    "haar=cv2.CascadeClassifier('./model/haarcascade_frontalface_default.xml')\n",
    "mean=pickle.load(open('./model/mean_preprocessing.pickle', 'rb'))\n",
    "model_svm=pickle.load(open('./model/model_svm.pickle', 'rb'))\n",
    "model_pca=pickle.load(open('./model/pca_50.pickle', 'rb'))\n",
    "print('models loaded successfully')"
   ]
  },
  {
   "cell_type": "markdown",
   "id": "8cf5d2c6",
   "metadata": {},
   "source": [
    "<b>our test data</b>"
   ]
  },
  {
   "cell_type": "code",
   "execution_count": 31,
   "id": "893edb30",
   "metadata": {},
   "outputs": [],
   "source": [
    "test_data_path='./data/male_000281.jpg'"
   ]
  },
  {
   "cell_type": "markdown",
   "id": "7d17f2e6",
   "metadata": {},
   "source": [
    "steps-\n",
    "1. read image\n",
    "2. convert into grayscale\n",
    "3. crop face using haar acscade classifier\n",
    "4. normalize the image\n",
    "5. resize image to 100x100\n",
    "6. flattening the image (reshape to 1x10,000)\n",
    "7. subtract with mean\n",
    "8. get eigen image\n",
    "9. pass to ML model (SVM)\n",
    "10. picking highest probability\n",
    "11. generate text"
   ]
  },
  {
   "cell_type": "code",
   "execution_count": 32,
   "id": "3de8cbd0",
   "metadata": {},
   "outputs": [],
   "source": [
    "gender_pre=['Male','Female']\n",
    "font=cv2.FONT_HERSHEY_SIMPLEX"
   ]
  },
  {
   "cell_type": "code",
   "execution_count": 10,
   "id": "cb7c7e50",
   "metadata": {},
   "outputs": [],
   "source": [
    "def pipeline_model(img,color='rgb'):\n",
    "    #s2-\n",
    "    if color =='bgr':\n",
    "        gray=cv2.cvtColor(img, cv2.COLOR_BGR2GRAY)\n",
    "    else:\n",
    "        gray=cv2.cvtColor(img, cv2.COLOR_RGB2GRAY)\n",
    "    #s3-\n",
    "    faces=haar.detectMultiScale(gray,1.5,3)\n",
    "    for x,y,w,h in faces:\n",
    "        cv2.rectangle(img,(x,y),(x+w,y+h),(0,255,0),2) #drawing rectangle\n",
    "        roi=gray[y:y+h,x:x+w] #cropping image\n",
    "        #s4- normalization\n",
    "        roi=roi/255.0\n",
    "        #s5-\n",
    "        if roi.shape[1] > 100:\n",
    "            roi_resize=cv2.resize(roi,(100,100),cv2.INTER_AREA)\n",
    "        else:\n",
    "            roi_resize=cv2.resize(roi,(100,100),cv2.INTER_CUBIC)\n",
    "        #s6-\n",
    "        roi_reshape=roi_resize.reshape(1,10000) # or 1,-1\n",
    "        #s7- \n",
    "        roi_mean=roi_reshape-mean\n",
    "        #s8-\n",
    "        eigen_image=model_pca.transform(roi_mean)\n",
    "        #s9-\n",
    "        results=model_svm.predict_proba(eigen_image)[0]\n",
    "        #s10-picking highest probability\n",
    "        predict=results.argmax() # 0 or 1\n",
    "        score=results[predict]\n",
    "        #s11- \n",
    "        text=\"%s : %0.2f\"%(gender_pre[predict], score)\n",
    "        cv2.putText(img, text, (x,y), font, 1, (0,255,0), 2)\n",
    "    return img\n",
    "    "
   ]
  },
  {
   "cell_type": "markdown",
   "id": "e46df8f6",
   "metadata": {},
   "source": [
    "for deploying purpose, since we are reading an image in bgr. if we save our image in bgr, the html may not take bgr format."
   ]
  },
  {
   "cell_type": "markdown",
   "id": "572b34cc",
   "metadata": {},
   "source": [
    "Steps-\n",
    "1. read an image using PIL\n",
    "2. convert into array using numpy\n",
    "3. pass to pipeline model"
   ]
  }
 ],
 "metadata": {
  "kernelspec": {
   "display_name": "Python 3 (ipykernel)",
   "language": "python",
   "name": "python3"
  },
  "language_info": {
   "codemirror_mode": {
    "name": "ipython",
    "version": 3
   },
   "file_extension": ".py",
   "mimetype": "text/x-python",
   "name": "python",
   "nbconvert_exporter": "python",
   "pygments_lexer": "ipython3",
   "version": "3.9.6"
  }
 },
 "nbformat": 4,
 "nbformat_minor": 5
}
