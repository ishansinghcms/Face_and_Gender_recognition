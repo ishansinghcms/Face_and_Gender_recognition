{
 "cells": [
  {
   "cell_type": "code",
   "execution_count": 1,
   "id": "27d69acc",
   "metadata": {},
   "outputs": [],
   "source": [
    "import warnings\n",
    "warnings.filterwarnings('ignore')\n",
    "import numpy as np\n",
    "import pandas as pd\n",
    "import matplotlib.pyplot as plt\n",
    "from sklearn.decomposition import PCA\n",
    "%matplotlib inline"
   ]
  },
  {
   "cell_type": "code",
   "execution_count": 3,
   "id": "225a1477",
   "metadata": {},
   "outputs": [
    {
     "data": {
      "text/plain": [
       "['arr_0', 'arr_1', 'arr_2']"
      ]
     },
     "execution_count": 3,
     "metadata": {},
     "output_type": "execute_result"
    }
   ],
   "source": [
    "data=np.load('./data/data_pca_50_y_mean.pickle.npz')\n",
    "data.files"
   ]
  },
  {
   "cell_type": "code",
   "execution_count": 4,
   "id": "430daa98",
   "metadata": {},
   "outputs": [],
   "source": [
    "x=data['arr_0']\n",
    "y=data['arr_1']\n",
    "mean=data['arr_2']"
   ]
  },
  {
   "cell_type": "code",
   "execution_count": 5,
   "id": "597f1338",
   "metadata": {},
   "outputs": [
    {
     "data": {
      "text/plain": [
       "((4367, 50), (1092, 50), (4367,), (1092,))"
      ]
     },
     "execution_count": 5,
     "metadata": {},
     "output_type": "execute_result"
    }
   ],
   "source": [
    "from sklearn.model_selection import train_test_split\n",
    "x_train,x_test,y_train,y_test = train_test_split(x,y,test_size=0.2,stratify=y)\n",
    "x_train.shape,x_test.shape,y_train.shape,y_test.shape"
   ]
  },
  {
   "cell_type": "code",
   "execution_count": 6,
   "id": "20f38257",
   "metadata": {},
   "outputs": [],
   "source": [
    "from sklearn.svm import SVC"
   ]
  },
  {
   "cell_type": "code",
   "execution_count": 7,
   "id": "c565bab2",
   "metadata": {},
   "outputs": [],
   "source": [
    "model=SVC(C=1.0,kernel='rbf',gamma=0.01, probability=True) "
   ]
  },
  {
   "cell_type": "code",
   "execution_count": 8,
   "id": "a4762935",
   "metadata": {},
   "outputs": [
    {
     "name": "stdout",
     "output_type": "stream",
     "text": [
      "model trained successfully\n"
     ]
    }
   ],
   "source": [
    "model.fit(x_train,y_train)\n",
    "print('model trained successfully')"
   ]
  },
  {
   "cell_type": "code",
   "execution_count": 9,
   "id": "1dca282a",
   "metadata": {},
   "outputs": [
    {
     "data": {
      "text/plain": [
       "0.8536752919624456"
      ]
     },
     "execution_count": 9,
     "metadata": {},
     "output_type": "execute_result"
    }
   ],
   "source": [
    "model.score(x_train,y_train)"
   ]
  },
  {
   "cell_type": "code",
   "execution_count": 10,
   "id": "6094583d",
   "metadata": {},
   "outputs": [
    {
     "data": {
      "text/plain": [
       "0.8058608058608059"
      ]
     },
     "execution_count": 10,
     "metadata": {},
     "output_type": "execute_result"
    }
   ],
   "source": [
    "model.score(x_test,y_test)"
   ]
  },
  {
   "cell_type": "code",
   "execution_count": 46,
   "id": "36e5d29b",
   "metadata": {},
   "outputs": [],
   "source": [
    "import pickle"
   ]
  },
  {
   "cell_type": "code",
   "execution_count": 51,
   "id": "1d1672ce",
   "metadata": {},
   "outputs": [],
   "source": [
    "pickle.dump(model, open('./model/model_svm.pickle', 'wb'))"
   ]
  },
  {
   "cell_type": "code",
   "execution_count": 49,
   "id": "5ddf6cf2",
   "metadata": {},
   "outputs": [],
   "source": [
    "pickle.dump(mean,open('./model/mean_preprocessing.pickle', 'wb'))"
   ]
  }
 ],
 "metadata": {
  "kernelspec": {
   "display_name": "Python 3 (ipykernel)",
   "language": "python",
   "name": "python3"
  },
  "language_info": {
   "codemirror_mode": {
    "name": "ipython",
    "version": 3
   },
   "file_extension": ".py",
   "mimetype": "text/x-python",
   "name": "python",
   "nbconvert_exporter": "python",
   "pygments_lexer": "ipython3",
   "version": "3.9.6"
  }
 },
 "nbformat": 4,
 "nbformat_minor": 5
}
